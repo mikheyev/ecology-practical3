{
 "cells": [
  {
   "cell_type": "code",
   "execution_count": null,
   "metadata": {
    "slideshow": {
     "slide_type": "skip"
    }
   },
   "outputs": [],
   "source": [
    "library(tidyverse)\n",
    "library(ggbiplot) \n",
    "options(repr.plot.width=5, repr.plot.height=4) # reduce the size of plots to make them look nicer"
   ]
  },
  {
   "cell_type": "markdown",
   "metadata": {
    "slideshow": {
     "slide_type": "slide"
    }
   },
   "source": [
    "# Practical 3: Analyzing the invertebrate community at Kioloa\n",
    "4 questions due at the end of the practical\n",
    "## Learning objectives\n",
    "- Calculate and explore emergent properties (richness and diversity) of the Kioloa invertebrate community structure\n",
    "- Examine how sampling methodology affected the kinds of data collected\n",
    "- Use ordination to explore the invertebrate community structure of Kioloa\n",
    "- Compare how these properties are related with plant community composition\n",
    "- Generate hypotheses about relationships between plant or animal taxa and conduct statistical tests\n",
    "- Discuss the advantages and limitations of our field methods and analysis for understanding the structure of the Kioloa invertebrate communities."
   ]
  },
  {
   "cell_type": "markdown",
   "metadata": {
    "slideshow": {
     "slide_type": "slide"
    }
   },
   "source": [
    "## Background\n",
    "Community ecology requires an understanding of both the composition and function of species living in sympatry. Some traditional metrics, such as taxonomic richness, diversity and evenness, can help explore broad patterns in community structure across space and/or time. However, communities often consist of a large number of species that can vary in occurrence and abundance across areas or gradients of interest. While it is possible to plot and explore every single one of these species in turn, this would be extremely time-consuming, and has the added problem of not considering the communities holistically.\n",
    "\n",
    "Multivariate ordination provides a way to explore patterns in both community composition and relative abundance in a diverse dataset (i.e., with 3 or more species). Such ordinations are not a statistical test, but a way of simplifying a multivariate dataset to visually explore community structure, and generate hypotheses for why such structure exists. We will use one type of ordination – Principal Components Analysis (PCA) – to examine similarities and differences in the structure of the Kioloa biological communities.\n",
    "\n",
    "We understand that communities are shaped by interactions between organisms and their environment. E.g., birds eat insects, and you need high levels of insects to have lots of birds. Each of you will use your biological knowledge to formulate a prediction, visualize data testing this prediction, and run a regression model to statistically test the hypothesis."
   ]
  },
  {
   "cell_type": "markdown",
   "metadata": {
    "slideshow": {
     "slide_type": "slide"
    }
   },
   "source": [
    "## Estimates of biodiversity\n",
    "\n",
    "In the prac itself, we'll aggregate taxa at the level of order. I am going to discuss *species* abundance, richess and diversity, but the same math applies at the higher taxonomic levels, too."
   ]
  },
  {
   "cell_type": "markdown",
   "metadata": {
    "slideshow": {
     "slide_type": "subslide"
    }
   },
   "source": [
    "### Estimates of biodiversity\n",
    "\n",
    "In the prac itself, we'll aggregate taxa at the level of order. I am going to discuss *species* abundance, richess and diversity, but the same math applies at the higher taxonomic levels, too."
   ]
  },
  {
   "cell_type": "markdown",
   "metadata": {
    "slideshow": {
     "slide_type": "fragment"
    }
   },
   "source": [
    "### Species richness\n",
    "Species richness is a measure of the number of species found in a sample. Since the larger the sample, the more species we would expect to find, we need to correct for sampling depth. One simple way to do that is simply dividing the number of species by the square root of the number of individuals in the sample. This particular measure of species richness is known as D, the Menhinick's index: $ D = \\frac{s}{\\sqrt(N)} $, where *s* equals the number of different species represented in your sample, and *N* equals the total number of individual organisms in your sample."
   ]
  },
  {
   "cell_type": "code",
   "execution_count": null,
   "metadata": {
    "slideshow": {
     "slide_type": "fragment"
    }
   },
   "outputs": [],
   "source": [
    "# compute Menhinick's index from a vector of taxon counts\n",
    "D <- function(n) { \n",
    "    length(n > 0)/sqrt(sum(n))\n",
    "}"
   ]
  },
  {
   "cell_type": "markdown",
   "metadata": {
    "slideshow": {
     "slide_type": "subslide"
    }
   },
   "source": [
    "### Species diversity\n",
    "What if our species are not equally abundant? Let's imagine we have two communities that have the same number of species:"
   ]
  },
  {
   "cell_type": "code",
   "execution_count": null,
   "metadata": {
    "scrolled": true,
    "slideshow": {
     "slide_type": "fragment"
    }
   },
   "outputs": [],
   "source": [
    "(toyCommunity <- data.frame(Species = letters[1:6], site1 = c(59, 12, 11, 10, 5, 3), site2= c(21, 20, 19, 14, 13, 13)))\n",
    "D(toyCommunity$site1)\n",
    "D(toyCommunity$site2)"
   ]
  },
  {
   "cell_type": "code",
   "execution_count": null,
   "metadata": {
    "slideshow": {
     "slide_type": "subslide"
    }
   },
   "outputs": [],
   "source": [
    "gather(toyCommunity, key=Site, value=Count, -Species) %>% # reformat into one-column format\n",
    "    ggplot(aes(x = Site, y=Count, color=Species)) + geom_point() + geom_line(aes(group=Species)) "
   ]
  },
  {
   "cell_type": "markdown",
   "metadata": {
    "slideshow": {
     "slide_type": "subslide"
    }
   },
   "source": [
    "As you can see these communities have the same species richness, but they are not the same, and Site 1 has a very skewed species distribution, dominated by *a* at the expense of other species. How can we capture these differences? One popular option is Shannon's index. It  was originally proposed by Claude Shannon the uncertainty or information content in strings of text, but the math works for ecology, too.\n",
    "$$ H' = -\\sum_{i=1}^{N}{p_i*log_e(p_i)}$$\n",
    "Here, $p_i$ is the *relative species abundance*, i.e., the fraction of the species in the community."
   ]
  },
  {
   "cell_type": "code",
   "execution_count": null,
   "metadata": {
    "slideshow": {
     "slide_type": "fragment"
    }
   },
   "outputs": [],
   "source": [
    "H <- function(n) {\n",
    "    partH <- 0\n",
    "    for (i in n)\n",
    "        partH = partH - (i / sum(n)) * log(i / sum(n))\n",
    "    return(partH)\n",
    "}"
   ]
  },
  {
   "cell_type": "code",
   "execution_count": null,
   "metadata": {
    "slideshow": {
     "slide_type": "fragment"
    }
   },
   "outputs": [],
   "source": [
    "c(H(toyCommunity$site1), H(toyCommunity$site2))"
   ]
  },
  {
   "cell_type": "markdown",
   "metadata": {
    "slideshow": {
     "slide_type": "fragment"
    }
   },
   "source": [
    "Site 1 has a lower species diversity, corresponding to the intuition of the plot above, where except for _a_ all the other species are less abundant than in Site 2"
   ]
  },
  {
   "cell_type": "markdown",
   "metadata": {
    "slideshow": {
     "slide_type": "slide"
    }
   },
   "source": [
    "## Ordination\n",
    "\n",
    "In the last prac, we spent a lot of time looking at individual flower measurement to try to see if there are differences between three iris species. This becomes increasingly more tedios to do as you have more measurement. Often, we want to ask the question -- are particular species differerent in a set of measurements overall? Principal Component Analysis (PCA) is one way to visually answer this question. We can conduct this analysis on the iris data as follows:"
   ]
  },
  {
   "cell_type": "code",
   "execution_count": null,
   "metadata": {
    "slideshow": {
     "slide_type": "subslide"
    }
   },
   "outputs": [],
   "source": [
    "data(iris)\n",
    "ir.pca <- prcomp(iris[,-5], center = TRUE, scale. = TRUE) \n",
    "ggbiplot(ir.pca, groups = iris$Species) + theme_minimal() + theme(legend.position=\"top\") + xlim(-2, 3.5)"
   ]
  },
  {
   "cell_type": "markdown",
   "metadata": {
    "slideshow": {
     "slide_type": "subslide"
    }
   },
   "source": [
    "The *PCA biplot* is a standard way to visualize complex sets of data. It is basically a specialized scatterplot with samples are displayed as points while variables are displayed either as vectors. The original data frame was a 60 × 13 data set, and we plot it here making the overall conclusions inuitive.\n",
    "- The PCA returns two axes (PC1 and PC2), and plots every one of the data points in this coordinate system. The axes correspond to major direction of variation in the data, as inferred by PCA. \n",
    "- Points that are closer together in this coordinate system are more similar overall, and PC1 is more important than PC2\n",
    "  - you can tell that be seeing that PC1 explains more variance inthe data than PC2.\n",
    "  - in this case, species are well-separated by PC1, so we can conclude that variation described by PC1 corresponds largely to species-level variation.\n",
    "### Loadings\n",
    "The arrows indicate *PCA loadings* of the original variable. Loadings describe the extent to which each original variable corresponds to each PCA axis.\n",
    "  - The longer the arrow, and the more parallel it is with the axis, the more it contributes to differences\n",
    "  - For example, Petal.Width is parallel to PC1, an axis that explains most of the variance between speceis\n",
    "  - By contrast Sepal.Width is correlated with PC1 and PC2 and not as strongly with PC1\n",
    "    - We can thus conclude that Petal.Width is better at differentiatiing species than Sepal.Width"
   ]
  },
  {
   "cell_type": "code",
   "execution_count": null,
   "metadata": {
    "slideshow": {
     "slide_type": "subslide"
    }
   },
   "outputs": [],
   "source": [
    "iris %>% select(Species, Sepal.Width, Petal.Width) %>%\n",
    "    gather(key=Measure, value=value, -Species) %>%\n",
    "    ggplot(aes(Species, value)) +geom_boxplot() +facet_grid(~Measure) + theme_minimal()"
   ]
  },
  {
   "cell_type": "markdown",
   "metadata": {
    "slideshow": {
     "slide_type": "fragment"
    }
   },
   "source": [
    "- We see that plotting data for these two variables validates results from the PCA. \n",
    "- PCA is an extremly versatile and useful tool for exploratory analysis of complex data sets."
   ]
  },
  {
   "cell_type": "markdown",
   "metadata": {
    "slideshow": {
     "slide_type": "slide"
    }
   },
   "source": [
    "## Main analysis\n",
    "We will start by loading invertebrate and vegetation data."
   ]
  },
  {
   "cell_type": "code",
   "execution_count": null,
   "metadata": {
    "slideshow": {
     "slide_type": "slide"
    }
   },
   "outputs": [],
   "source": [
    "inverts <- read.csv(\"invertebrates.csv\")\n",
    "head(inverts)"
   ]
  },
  {
   "cell_type": "markdown",
   "metadata": {
    "slideshow": {
     "slide_type": "fragment"
    }
   },
   "source": [
    "The invertebrate data are summarized by order to reduce the number of zeros. Very hard to tell anything from the raw data table, especially given the number of different orders."
   ]
  },
  {
   "cell_type": "code",
   "execution_count": null,
   "metadata": {
    "slideshow": {
     "slide_type": "subslide"
    }
   },
   "outputs": [],
   "source": [
    "vegcover <- read.csv(\"vegcover.csv\")\n",
    "head(vegcover)"
   ]
  },
  {
   "cell_type": "markdown",
   "metadata": {
    "slideshow": {
     "slide_type": "fragment"
    }
   },
   "source": [
    "The vegetation data are from the first prac, and provide one measure of the vegetation in the plot."
   ]
  },
  {
   "cell_type": "markdown",
   "metadata": {
    "slideshow": {
     "slide_type": "slide"
    }
   },
   "source": [
    "\n",
    "\n",
    "## Using principal component analysis (PCA) to examine the effect of sampling method\n",
    "\n",
    "\n",
    "As we saw with the iris data, you can use PCA for an exploration of the underlying structure. We drop the first three columns, which are not numeric, and plot the PCA results"
   ]
  },
  {
   "cell_type": "code",
   "execution_count": null,
   "metadata": {
    "slideshow": {
     "slide_type": "subslide"
    }
   },
   "outputs": [],
   "source": [
    "inverts.pca <- prcomp(inverts %>% select(-1:-3), center = TRUE, scale. = TRUE) \n",
    "ggbiplot(inverts.pca, groups = inverts$Method) + theme_minimal() + theme(legend.position=\"top\") + \n",
    "    scale_color_manual(name=\"method\", values = c(\"red\", \"blue\", \"orange\")) "
   ]
  },
  {
   "cell_type": "markdown",
   "metadata": {
    "slideshow": {
     "slide_type": "fragment"
    }
   },
   "source": [
    "As you can see the green points corresponding to light trapping are separated from the beating and sweeping points. "
   ]
  },
  {
   "cell_type": "markdown",
   "metadata": {
    "slideshow": {
     "slide_type": "slide"
    }
   },
   "source": [
    "## Joining invertebrate and plant data sets\n",
    "\n",
    "We can easily join different data asts that have common identifiers by column. This allows us to join the invertebrate and plant data sets.\n",
    "- Note that we can't directly compare the plant and animal data across all sites, since we have light trapping data "
   ]
  },
  {
   "cell_type": "code",
   "execution_count": null,
   "metadata": {
    "slideshow": {
     "slide_type": "subslide"
    }
   },
   "outputs": [],
   "source": [
    "vegInverts <- inverts %>% group_by(Group, Site) %>% filter(Method != \"Light\") %>%\n",
    "    select(-Method) %>% # we only have methods for inverts, so we take all of them together\n",
    "    summarise_all(list(sum)) %>% #sum everything\n",
    "    left_join(vegcover, by = c(\"Group\", \"Site\")) %>% ungroup() #join the two data sets by group and site\n",
    "head(vegInverts)"
   ]
  },
  {
   "cell_type": "markdown",
   "metadata": {
    "slideshow": {
     "slide_type": "fragment"
    }
   },
   "source": [
    "This is pretty awesome! We can now create correlations between different data sets."
   ]
  },
  {
   "cell_type": "code",
   "execution_count": null,
   "metadata": {
    "slideshow": {
     "slide_type": "subslide"
    }
   },
   "outputs": [],
   "source": [
    "ggplot(vegInverts, aes(stems, Coleoptera, color  = Site )) +geom_point() + theme_minimal()"
   ]
  },
  {
   "cell_type": "markdown",
   "metadata": {
    "slideshow": {
     "slide_type": "fragment"
    }
   },
   "source": [
    "This pretty much matches what we expect, right? There are few beetles in the foredune region, and there are also few trees. In the forest, we have both trees and beetles."
   ]
  },
  {
   "cell_type": "code",
   "execution_count": null,
   "metadata": {
    "slideshow": {
     "slide_type": "slide"
    }
   },
   "outputs": [],
   "source": [
    "vegInverts.pca <- prcomp(vegInverts %>% select(-1:-2), center = TRUE, scale. = TRUE)\n",
    "ggbiplot(vegInverts.pca, groups = vegInverts$Site) + theme_minimal() + theme(legend.position=\"top\") + \n",
    "ylim(-3,2) + xlim(-4,2)"
   ]
  },
  {
   "cell_type": "markdown",
   "metadata": {
    "slideshow": {
     "slide_type": "fragment"
    }
   },
   "source": [
    "This plot reveals a lot about the relationships between plants and animal communities. For example, unsurprisingly, it looks like tree and grass cover are anticorrelated. Let's test that:"
   ]
  },
  {
   "cell_type": "code",
   "execution_count": null,
   "metadata": {
    "slideshow": {
     "slide_type": "subslide"
    }
   },
   "outputs": [],
   "source": [
    "ggplot(vegInverts, aes(GrassPercent, TreePercent, color = Site )) + geom_point() + \n",
    "geom_smooth(method = \"lm\", se = F, aes(group = 1)) # group = 1 overrides grouping by color"
   ]
  },
  {
   "cell_type": "code",
   "execution_count": null,
   "metadata": {
    "slideshow": {
     "slide_type": "subslide"
    }
   },
   "outputs": [],
   "source": [
    "summary(lm(GrassPercent ~ TreePercent, data = vegInverts))"
   ]
  },
  {
   "cell_type": "markdown",
   "metadata": {
    "slideshow": {
     "slide_type": "slide"
    }
   },
   "source": [
    "# Questions \n",
    "\n",
    "- Each question is worth 5 points\n",
    "\n",
    "Please submit these as a PDF via Turnitin. Because some of these questions require a bit of writing and the server might time out when you are doing this, I suggest that you finish the computations and plots in Jupyter first, and then tackle the writing questions when you no longer need access to the R kernel.\n",
    "\n",
    "1. Provide plots of mean (with standard error bars) of richness, diversity, and evenness for the wet and dry forest invertebrate communities at Kioloa. Make sure figures are fully labelled. Provide an explanation for the observed pattern.\n",
    "2. Look at loadings on the biplot color-coded by method of insect collection. Argue that there's evidence of taxonomic bias by method. Using our results and the biology of the collected taxa, explain why this bias exists.\n",
    "3. Come up with a biologically-motivated hypothesis that makes predictions about relationships between either arhropod taxa or arthropods and plants. Test the prediction using a regression model. Explain whether your hypothesis was supported or not by the data based on the result of the statistical test.\n",
    "4. Suggest five improvements to the experimental or statistical methodology of the field lab."
   ]
  }
 ],
 "metadata": {
  "kernelspec": {
   "display_name": "R",
   "language": "R",
   "name": "ir"
  },
  "language_info": {
   "codemirror_mode": "r",
   "file_extension": ".r",
   "mimetype": "text/x-r-source",
   "name": "R",
   "pygments_lexer": "r",
   "version": "3.5.3"
  }
 },
 "nbformat": 4,
 "nbformat_minor": 2
}
